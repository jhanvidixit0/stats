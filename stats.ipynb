{
  "nbformat": 4,
  "nbformat_minor": 0,
  "metadata": {
    "colab": {
      "provenance": []
    },
    "kernelspec": {
      "name": "python3",
      "display_name": "Python 3"
    },
    "language_info": {
      "name": "python"
    }
  },
  "cells": [
    {
      "cell_type": "markdown",
      "source": [
        "1. Explain the different types of data (qualitative and quantitative) and provide examples of each. Discuss\n",
        "nominal, ordinal, interval, and ratio scales."
      ],
      "metadata": {
        "id": "rPIBUBIjWhjF"
      }
    },
    {
      "cell_type": "markdown",
      "source": [
        "Answer - Qualitative Data - Qualitative data represents characteristics or attributes that can be divided into different categories but cannot be measured numerically.\n",
        "\n",
        "Examples - Gender (Male, Female),\n",
        "Eye color (Blue, Brown, Green)\n",
        "\n",
        "\n",
        "Types of Qualitative Data - Nominal Scale - The nominal scale represents categories without any intrinsic ordering. The values are just labels or names.\n",
        "\n",
        "Examples:Hair color,Type of car\n",
        "\n",
        "Ordinal Scale - Ordinal data has categories with a clear, ordered ranking, but the differences between ranks are not measurable.\n",
        "Examples - Movie rating,Education level.\n",
        "\n",
        "Quantitative Data - Quantitative data consists of numbers and can be measured or counted, often used to describe the magnitude or quantity of something.\n",
        "\n",
        "Examples - Height of a person (e.g., 170 cm),Number of books on a shelf (e.g., 35 books),Temperature in Celsius (e.g., 22°C)\n",
        "\n",
        "Types of Quantitative Data - Interval Scale - Interval data is numerical data where the intervals between values are equal, but there is no true zero point.\n",
        "\n",
        "Examples:\n",
        "Temperature : The difference between 20°C and 30°C is the same as between 30°C and 40°C, but 0°C does not mean \"no temperature.\"\n",
        "Dates: The difference between 2000 and 2010 is the same as between 2010 and 2020.\n",
        "\n",
        "Ratio Scale - Ratio data is similar to the interval scale, but with a meaningful zero point, meaning zero represents an absolute absence of the variable.\n",
        "\n",
        "Examples - Weight: A weight of 0 kg means no weight at all, and you can compare two weights meaningfully (e.g., 10 kg is twice as heavy as 5 kg).\n",
        "Height: Zero height represents no height, and you can meaningfully say someone is twice as tall."
      ],
      "metadata": {
        "id": "mYv9faNYWnQS"
      }
    },
    {
      "cell_type": "markdown",
      "source": [
        "2. What are the measures of central tendency, and when should you use each? Discuss the mean, median,\n",
        "and mode with examples and situations where each is appropriate."
      ],
      "metadata": {
        "id": "ZoiHMqX3mAFT"
      }
    },
    {
      "cell_type": "markdown",
      "source": [
        "Answer - Measures of central tendency are statistical metrics that describe the center or typical value of a dataset. The three most commonly used measures are the mean, median, and mode. Each has its own strengths and is appropriate in different situations depending on the nature of the data.\n",
        "\n"
      ],
      "metadata": {
        "id": "aowqcp-7mEBX"
      }
    },
    {
      "cell_type": "code",
      "source": [
        "# 1. Mean - The mean is the sum of all values in a dataset divided by the number of values. It represents the arithmetic average.\n",
        "\n",
        "# When to use:\n",
        "\n",
        "# Use the mean when the data is numerical and there are no extreme outliers. The mean is sensitive to outliers,\n",
        "# so it might not be appropriate if the dataset contains significantly high or low values.\n",
        "\n",
        "import numpy as np\n",
        "data = [10, 20, 30, 40, 50]\n",
        "mean = np.mean(data)\n",
        "print(\"Mean:\", mean)\n",
        "\n"
      ],
      "metadata": {
        "colab": {
          "base_uri": "https://localhost:8080/"
        },
        "id": "JgD4CJVOmpEg",
        "outputId": "14465204-3863-4bc5-fb41-e3661f21f6bf"
      },
      "execution_count": null,
      "outputs": [
        {
          "output_type": "stream",
          "name": "stdout",
          "text": [
            "Mean: 30.0\n"
          ]
        }
      ]
    },
    {
      "cell_type": "code",
      "source": [
        "# 2. Median - The median is the middle value of a dataset when the values are arranged in ascending or descending order.\n",
        "# If there is an even number of values, the median is the average of the two middle values.\n",
        "\n",
        "# When to use:\n",
        "# The median is useful when the data is skewed or contains outliers, as it is not affected by extreme values.\n",
        "# It is especially appropriate for ordinal data (data with a natural order but no equal intervals).\n",
        "\n",
        "median = np.median(data)\n",
        "print(\"Median:\", median)\n"
      ],
      "metadata": {
        "colab": {
          "base_uri": "https://localhost:8080/"
        },
        "id": "xNZE7s14myRd",
        "outputId": "46728bc8-a338-4c6d-bddc-76347bca2dcd"
      },
      "execution_count": null,
      "outputs": [
        {
          "output_type": "stream",
          "name": "stdout",
          "text": [
            "Median: 30.0\n"
          ]
        }
      ]
    },
    {
      "cell_type": "code",
      "source": [
        "# Mode - The mode is the value that appears most frequently in a dataset. There can be more than one mode in a dataset\n",
        "# if multiple values have the same highest frequency.\n",
        "\n",
        "# When to use:\n",
        "\n",
        "# The mode is used for categorical data or when you want to find the most common value in a dataset.\n",
        "# It's also useful for discrete data, particularly when values repeat frequently.\n",
        "\n",
        "\n",
        "from scipy import stats\n",
        "\n",
        "data = [10, 20, 20, 30, 40, 100]\n",
        "mode_result = stats.mode(data, keepdims=True)\n",
        "print(\"Mode:\", mode_result.mode[0])\n"
      ],
      "metadata": {
        "colab": {
          "base_uri": "https://localhost:8080/"
        },
        "id": "EHoVzphFnzQI",
        "outputId": "94c63247-8b64-4ace-c90b-f80cdddb79fe"
      },
      "execution_count": null,
      "outputs": [
        {
          "output_type": "stream",
          "name": "stdout",
          "text": [
            "Mode: 20\n"
          ]
        }
      ]
    },
    {
      "cell_type": "markdown",
      "source": [
        "3. Explain the concept of dispersion. How do variance and standard deviation measure the spread of data?"
      ],
      "metadata": {
        "id": "5v-duWYYpE2N"
      }
    },
    {
      "cell_type": "markdown",
      "source": [
        "Answer - Dispersion refers to the spread or variability of a dataset. It indicates how much the data points in a dataset differ from the central value (like the mean or median). High dispersion means the data points are spread out widely from the center, while low dispersion suggests that the data points are closely clustered around the center.\n",
        "\n",
        "Two common measures of dispersion are variance and standard deviation:\n",
        "\n",
        "Variance measures the average squared deviation of each data point from the mean. It's calculated by finding the difference between each data point and the mean, squaring it, and then averaging those squared differences.\n",
        "\n",
        "Standard Deviation is the square root of the variance. It provides a measure of dispersion in the same units as the original data, making it more interpretable"
      ],
      "metadata": {
        "id": "jDQawLZypQje"
      }
    },
    {
      "cell_type": "code",
      "source": [
        "import numpy as np\n",
        "\n",
        "data = np.array([10, 12, 23, 23, 16, 23, 21, 16])\n",
        "\n",
        "mean = np.mean(data)\n",
        "\n",
        "variance = np.var(data)\n",
        "\n",
        "std_deviation = np.std(data)\n",
        "\n",
        "print(mean)\n",
        "print(variance)\n",
        "print(std_deviation)\n"
      ],
      "metadata": {
        "colab": {
          "base_uri": "https://localhost:8080/"
        },
        "id": "nISRFDp45_49",
        "outputId": "6873f4e6-00ee-49d3-89a9-b6e86c02b718"
      },
      "execution_count": 1,
      "outputs": [
        {
          "output_type": "stream",
          "name": "stdout",
          "text": [
            "18.0\n",
            "24.0\n",
            "4.898979485566356\n"
          ]
        }
      ]
    },
    {
      "cell_type": "markdown",
      "source": [
        "4. What is a box plot, and what can it tell you about the distribution of data?"
      ],
      "metadata": {
        "id": "5sDO0b6n7kAO"
      }
    },
    {
      "cell_type": "markdown",
      "source": [
        "Answer - A box plot (also known as a box-and-whisker plot) is a graphical representation of the distribution of data that shows the spread, center, and skewness. It provides a visual summary using five key summary statistics:\n",
        "\n",
        "Minimum: The smallest value in the dataset (excluding outliers).\n",
        "\n",
        "First Quartile (Q1): The 25th percentile, meaning 25% of the data falls below this value.\n",
        "\n",
        "Median (Q2): The 50th percentile or middle value of the dataset.\n",
        "\n",
        "Third Quartile (Q3): The 75th percentile, meaning 75% of the data falls below this value.\n",
        "\n",
        "Maximum: The largest value in the dataset (excluding outliers).\n",
        "\n",
        "\n",
        "What Can a Box Plot Tell You - A box plot gives you several insights about the distribution of data:\n",
        "\n",
        "Spread: The length of the box shows the interquartile range (IQR = Q3 - Q1), which measures the spread of the middle 50% of the data.\n",
        "\n",
        "Center: The line inside the box represents the median, showing where the center of the data lies.\n",
        "\n",
        "Skewness: If the median is closer to Q1 or Q3, the data is skewed. A longer whisker on one side indicates skewness in that direction.\n",
        "\n",
        "Outliers: Points outside the whiskers indicate potential outliers in the data.\n",
        "\n",
        "Symmetry: A symmetric box plot suggests a normal distribution, while an asymmetric one suggests skewness."
      ],
      "metadata": {
        "id": "jDiJDkWM74-P"
      }
    },
    {
      "cell_type": "code",
      "source": [
        "import matplotlib.pyplot as plt\n",
        "import seaborn as sns\n",
        "import numpy as np\n",
        "\n",
        "data = np.array([12, 7, 14, 19, 23, 16, 23, 22, 29, 30, 31, 50])\n",
        "\n",
        "plt.figure(figsize=(8, 6))\n",
        "sns.boxplot(data=data)\n",
        "\n",
        "plt.title('Box Plot of Data', fontsize=15)\n",
        "plt.xlabel('Dataset', fontsize=12)\n",
        "plt.show()\n"
      ],
      "metadata": {
        "colab": {
          "base_uri": "https://localhost:8080/",
          "height": 611
        },
        "id": "-4ezXqOz8TAK",
        "outputId": "54370103-40f5-4436-cf31-77d121bf9be3"
      },
      "execution_count": 2,
      "outputs": [
        {
          "output_type": "stream",
          "name": "stderr",
          "text": [
            "/usr/local/lib/python3.10/dist-packages/seaborn/categorical.py:640: FutureWarning: SeriesGroupBy.grouper is deprecated and will be removed in a future version of pandas.\n",
            "  positions = grouped.grouper.result_index.to_numpy(dtype=float)\n"
          ]
        },
        {
          "output_type": "display_data",
          "data": {
            "text/plain": [
              "<Figure size 800x600 with 1 Axes>"
            ],
            "image/png": "[encoded data removed]"
          },
          "metadata": {}
        }
      ]
    },
    {
      "cell_type": "markdown",
      "source": [
        "5. Discuss the role of random sampling in making inferences about populations.\n"
      ],
      "metadata": {
        "id": "nK35PDQD8gxt"
      }
    },
    {
      "cell_type": "markdown",
      "source": [
        "Answer - Random sampling is a fundamental concept in statistics that allows us to make reliable inferences about a population by studying a smaller subset (sample) of the population. The key idea is that a well-designed random sample can represent the broader population, so conclusions drawn from the sample can be generalized to the entire population.\n",
        "\n",
        "1. Representativeness of the Population\n",
        "In random sampling, every individual in the population has an equal chance of being selected. This ensures that the sample is representative of the population, capturing the diversity and characteristics of the entire group. By preventing bias in the selection process, random sampling makes it more likely that any patterns observed in the sample reflect true patterns in the population.\n",
        "\n",
        "2. Unbiased Estimates\n",
        "Random sampling helps to eliminate selection bias, which can occur if certain members of the population are more likely to be included in the sample than others. When samples are selected randomly, the estimates of parameters (such as the population mean, proportion, or standard deviation) are unbiased. This means that the expected value of the sample statistic is equal to the true population parameter.\n",
        "\n",
        "3. Generalization to the Population\n",
        "Random sampling allows researchers to generalize their findings from the sample to the larger population with a certain level of confidence. Statistical inference techniques like confidence intervals and hypothesis tests are built on the assumption that the sample was randomly selected. With these methods, we can estimate the likely range of a population parameter or test hypotheses about population behavior based on sample data.\n",
        "\n",
        "4. Sampling Variability and the Law of Large Numbers\n",
        "When samples are drawn randomly, there will always be some variability in the results from sample to sample (called sampling variability). However, according to the Law of Large Numbers, as the sample size increases, the sample statistics (such as the sample mean) will converge toward the true population parameters. Thus, random sampling is effective as long as the sample size is large enough to minimize this variability.\n",
        "\n",
        "5. Enables Statistical Inference\n",
        "Random sampling is the foundation for applying statistical inference methods, such as:\n",
        "\n",
        "Confidence intervals: Random sampling allows us to estimate a range within which the population parameter (such as the mean or proportion) is likely to lie.\n",
        "\n",
        "Hypothesis testing: We use random samples to test hypotheses about the population. If the sample is random, we can calculate the probability of observing our sample data under a null hypothesis, enabling valid conclusions.\n",
        "\n",
        "Regression and correlation analysis: Random sampling ensures that the relationships found between variables in the sample (e.g., correlation) can be extended to the population."
      ],
      "metadata": {
        "id": "6X9aKYmX8oZk"
      }
    },
    {
      "cell_type": "code",
      "source": [
        "# Types of Random Sampling Techniques\n",
        "# Simple Random Sampling: Every individual in the population has an equal probability of being selected.\n",
        "# Stratified Random Sampling: The population is divided into strata (groups) based on specific characteristics, and random samples are taken from each stratum.\n",
        "# Cluster Sampling: The population is divided into clusters, and a random selection of clusters is studied.\n",
        "# Systematic Sampling: Every nth individual is selected from a population list.\n",
        "\n",
        "import numpy as np\n",
        "\n",
        "population = np.arange(1, 1001)\n",
        "\n",
        "sample = np.random.choice(population, size=100, replace=False)\n",
        "\n",
        "print(sample)\n"
      ],
      "metadata": {
        "colab": {
          "base_uri": "https://localhost:8080/"
        },
        "id": "dhpzbBbE_1B9",
        "outputId": "80d88c9a-c676-441c-c043-21aed6643801"
      },
      "execution_count": 3,
      "outputs": [
        {
          "output_type": "stream",
          "name": "stdout",
          "text": [
            "[609 492 968 547 832 487 457 794 223 273 903 564 166 935 339 748 226  76\n",
            " 385 490 303 300 281 644 312 844  30 194 877 305 948   5 221 441 723 901\n",
            " 235 604  75  87 726 583 478 258 762 120 135  59 856 820 966 406 150 227\n",
            " 301 309 542 146 907 485  64 892 119 510 734  99 259 913 393 164 357 454\n",
            " 950 509 637 986 392 413 743 188 805 412 873 808 525 297  19 590 159 374\n",
            " 658 360 397 307 132 588 288  95 540 941]\n"
          ]
        }
      ]
    },
    {
      "cell_type": "markdown",
      "source": [
        "6. Explain the concept of skewness and its types. How does skewness affect the interpretation of data?"
      ],
      "metadata": {
        "id": "x9XJtdEfANR7"
      }
    },
    {
      "cell_type": "markdown",
      "source": [
        "Answer - Skewness refers to the asymmetry or distortion of data distribution around its central point (the mean). In a perfectly symmetric distribution, such as a normal distribution, the data is evenly spread around the mean, and skewness is zero. However, when the data is not symmetric, we say the distribution is skewed.\n",
        "\n",
        "Skewness helps describe the shape of a distribution, particularly whether the data points are more concentrated on one side of the mean than the other.\n",
        "\n",
        "Types of Skewness:\n",
        "Positive Skewness (Right-Skewed Distribution)- In a positively skewed distribution, the tail on the right side (toward higher values) is longer or fatter, Mean > Median > Mode in this case, because the mean is pulled in the direction of the longer tail.\n",
        "\n",
        "Negative Skewness (Left-Skewed Distribution):In a negatively skewed distribution, the tail on the left side (toward lower values) is longer or fatter, Mean < Median < Mode in this case, because the mean is pulled toward the lower values.\n",
        "\n",
        "Zero Skewness (Symmetric Distribution):In a symmetric distribution (like a normal distribution), the data is evenly spread on both sides of the mean, There is no skewness, and the mean = median = mode.\n",
        "\n",
        "How Skewness Affects the Interpretation of Data:\n",
        "\n",
        "1 - Impact on Measures of Central Tendency:\n",
        "\n",
        "In a skewed distribution, the mean is not a good indicator of central tendency because it is pulled in the direction of the skewness. In such cases, the median is often a better measure of central tendency because it is less affected by extreme values (outliers).\n",
        "\n",
        "2 - Outliers and Data Distribution:\n",
        "\n",
        "Positive or negative skewness indicates the presence of outliers in the tails of the distribution. A right-skewed distribution suggests that there are high outliers, while a left-skewed distribution suggests low outliers.\n",
        "\n",
        "3 - Impact on Statistical Tests and Models:\n",
        "\n",
        "Many statistical tests (e.g., t-tests, regression analysis) assume that the data follows a normal distribution (i.e., zero skewness). If the data is heavily skewed, these tests may produce misleading results.\n",
        "\n",
        "4 - Tail Risk in Financial Data:\n",
        "\n",
        "In finance, skewness can indicate \"tail risk.\" A right-skewed distribution might suggest a higher likelihood of extreme positive returns (but also fewer returns close to the mean), while a left-skewed distribution may suggest a higher likelihood of extreme negative returns (which increases downside risk).\n",
        "\n",
        "5 - Interpretation of Spread and Dispersion:\n",
        "\n",
        "Skewed data may have misleading standard deviations. In a positively skewed distribution, the standard deviation might overestimate the variability on the right side and underestimate it on the left. Similarly, for negatively skewed distributions, variability on the left side may be underestimated.\n",
        "\n"
      ],
      "metadata": {
        "id": "ZrjhgEFjAddq"
      }
    },
    {
      "cell_type": "code",
      "source": [
        "import numpy as np\n",
        "from scipy.stats import skew\n",
        "\n",
        "data = np.array([12, 7, 14, 19, 23, 16, 23, 22, 29, 30, 31, 50])\n",
        "skewness_value = skew(data)\n",
        "\n",
        "print(\"Skewness of the data:\", skewness_value)\n"
      ],
      "metadata": {
        "colab": {
          "base_uri": "https://localhost:8080/"
        },
        "id": "PK2lYRi4CQiJ",
        "outputId": "e325a5bc-ddd6-4b75-9659-c2e01e4887bc"
      },
      "execution_count": 4,
      "outputs": [
        {
          "output_type": "stream",
          "name": "stdout",
          "text": [
            "Skewness of the data: 0.9363775613359384\n"
          ]
        }
      ]
    },
    {
      "cell_type": "markdown",
      "source": [
        "7. What is the interquartile range (IQR), and how is it used to detect outliers?"
      ],
      "metadata": {
        "id": "_5XcS1EzCc5J"
      }
    },
    {
      "cell_type": "markdown",
      "source": [
        "Answer - The Interquartile Range (IQR) is a measure of statistical dispersion, representing the range within which the central 50% of data points lie. It is the difference between the third quartile (Q3) and the first quartile (Q1), which essentially measures the spread of the middle half of the data.\n",
        "\n",
        "First Quartile (Q1): The 25th percentile, meaning 25% of the data falls below this value.\n",
        "Third Quartile (Q3): The 75th percentile, meaning 75% of the data falls below this value.\n",
        "The formula for calculating IQR is - 𝐼𝑄𝑅=𝑄3−𝑄1 and\n",
        "IQR=Q3−Q1\n",
        "This range is robust and not influenced by extreme values (outliers), making it a useful measure of variability for skewed data.\n",
        "\n",
        "How is IQR Used to Detect Outliers - Outliers are data points that are significantly different from the rest of the data. The IQR method for detecting outliers relies on the fact that outliers tend to fall far outside the central 50% of the data.\n",
        "\n",
        "Any data points that are smaller than the lower bound or larger than the upper bound are considered outliers.\n",
        "\n",
        "Low outliers: Data points less than - 𝑄1−1.5×𝐼𝑄𝑅\n",
        "\n",
        "High outliers: Data points greater than - Q3+1.5×IQR"
      ],
      "metadata": {
        "id": "02f08rNXCeSM"
      }
    },
    {
      "cell_type": "code",
      "source": [
        "import numpy as np\n",
        "\n",
        "data = np.array([12, 7, 14, 19, 23, 16, 23, 22, 29, 30, 31, 50])\n",
        "\n",
        "Q1 = np.percentile(data, 25)\n",
        "Q3 = np.percentile(data, 75)\n",
        "\n",
        "IQR = Q3 - Q1\n",
        "\n",
        "lower_bound = Q1 - 1.5 * IQR\n",
        "upper_bound = Q3 + 1.5 * IQR\n",
        "\n",
        "outliers = data[(data < lower_bound) | (data > upper_bound)]\n",
        "\n",
        "print(\"Q1:\", Q1)\n",
        "print(\"Q3:\", Q3)\n",
        "print(\"IQR:\", IQR)\n",
        "print(\"Lower Bound:\", lower_bound)\n",
        "print(\"Upper Bound:\", upper_bound)\n",
        "print(\"Outliers:\", outliers)\n"
      ],
      "metadata": {
        "colab": {
          "base_uri": "https://localhost:8080/"
        },
        "id": "BumNgUjODzBU",
        "outputId": "728a8325-6e5d-4e25-f1e8-6bc7855f87c5"
      },
      "execution_count": 5,
      "outputs": [
        {
          "output_type": "stream",
          "name": "stdout",
          "text": [
            "Q1: 15.5\n",
            "Q3: 29.25\n",
            "IQR: 13.75\n",
            "Lower Bound: -5.125\n",
            "Upper Bound: 49.875\n",
            "Outliers: [50]\n"
          ]
        }
      ]
    },
    {
      "cell_type": "markdown",
      "source": [
        "8. Discuss the conditions under which the binomial distribution is used."
      ],
      "metadata": {
        "id": "2uLKrbHZELms"
      }
    },
    {
      "cell_type": "markdown",
      "source": [
        "Answer - Conditions for Using the Binomial Distribution:\n",
        "\n",
        "1 - Fixed Number of Trials (n) - The experiment or process must consist of a fixed number of trials, denoted by n. Each trial is conducted independently of the others, meaning the outcome of one trial does not affect the outcome of another.\n",
        "\n",
        "2 - Only Two Possible Outcomes per Trial (Success/Failure) - Each trial must have exactly two possible outcomes, typically labeled as \"success\" or \"failure\". These outcomes must be mutually exclusive and exhaustive (one of the two always happens).\n",
        "\n",
        "3 - Constant Probability of Success (p) - The probability of success, denoted as p, must be the same for each trial. The probability of failure is 1−p.\n",
        "This means that the trials are identical and do not change over time or based on previous results.\n",
        "\n",
        "4 - Independence of Trials - The trials must be independent, meaning the outcome of one trial does not affect the outcome of another.\n",
        "\n",
        "The binomial distribution is used when there is a fixed number of independent trials, each trial results in one of two possible outcomes (success/failure), and the probability of success remains constant across trials. This distribution is widely applicable in situations such as coin flips, quality control testing, and medical trials, where each experiment or trial follows these specific conditions."
      ],
      "metadata": {
        "id": "SG1AfA3uENfx"
      }
    },
    {
      "cell_type": "markdown",
      "source": [
        "9. Explain the properties of the normal distribution and the empirical rule (68-95-99.7 rule)."
      ],
      "metadata": {
        "id": "Zqt1q3JPHyrk"
      }
    },
    {
      "cell_type": "markdown",
      "source": [
        "Answer - Properties of the Normal Distribution - The normal distribution, also known as the Gaussian distribution, is a continuous probability distribution that is symmetric and bell-shaped, where most of the observations cluster around the central peak, and the probabilities taper off equally in both directions away from the mean. It is one of the most important distributions in statistics due to its frequent appearance in natural and social phenomena.\n",
        "\n",
        "The key properties of the normal distribution are:\n",
        "\n",
        "1 - Symmetry - The normal distribution is perfectly symmetric about its mean (μ). The left half of the distribution is a mirror image of the right half.\n",
        "\n",
        "2 - Bell-shaped Curve - The probability density function (PDF) of the normal distribution forms a bell-shaped curve, where the highest point is at the mean. The tails of the curve approach the horizontal axis but never actually touch it.\n",
        "\n",
        "3 - Mean (μ) and Standard Deviation (σ) - The normal distribution is characterized by two parameters:μ (the mean): Determines the location of the center of the distribution.\n",
        "σ (the standard deviation): Determines the spread or width of the distribution. A larger σ results in a wider and flatter curve, while a smaller\n",
        "σ leads to a steeper, narrower curve.\n",
        "\n",
        "4 - Total Area Under the Curve - The total area under the normal distribution curve is equal to 1. This means the distribution accounts for all possible outcomes (i.e., a probability of 1 or 100%).\n",
        "\n",
        "5 - Asymptotic Tails - The tails of the normal distribution curve extend indefinitely in both directions (left and right), getting closer and closer to the horizontal axis but never actually touching it. This means extreme values are always possible, but their probability decreases rapidly as we move farther from the mean.\n",
        "\n",
        "6 - Unimodal - The normal distribution has only one peak, meaning it has a single mode at the mean.\n",
        "\n",
        "7 - Standard Normal Distribution - A special case of the normal distribution is the standard normal distribution, where the mean (μ) is 0 and the standard deviation (σ) is 1\n",
        "\n",
        "The Empirical Rule (68-95-99.7 Rule) - The Empirical Rule, also known as the 68-95-99.7 Rule, is a shorthand way of describing the distribution of data in a normal distribution. It tells us how much of the data falls within one, two, and three standard deviations of the mean.\n",
        "\n",
        "The rule states:\n",
        "\n",
        "68% of the data falls within 1 standard deviation of the mean:\n",
        "\n",
        "This means approximately 68% of the data is located between μ−σ and μ+σ.\n",
        "95% of the data falls within 2 standard deviations of the mean:\n",
        "\n",
        "Approximately 95% of the data is located between μ−2σ and μ+2σ.\n",
        "99.7% of the data falls within 3 standard deviations of the mean:\n",
        "\n",
        "Almost all the data (99.7%) lies between μ−3σ and μ+3σ.\n"
      ],
      "metadata": {
        "id": "ykXo4a_9H5a1"
      }
    },
    {
      "cell_type": "markdown",
      "source": [
        "10. Provide a real-life example of a Poisson process and calculate the probability for a specific event."
      ],
      "metadata": {
        "id": "Y3wSGCDsOfZa"
      }
    },
    {
      "cell_type": "markdown",
      "source": [
        "Answer - A Poisson process is a statistical process that models the occurrence of events that happen independently and at a constant average rate over time or space. It's often used when we are counting the number of events happening in a fixed interval of time or space.\n",
        "\n",
        "Example Scenario: Phone Calls in a Customer Service Center\n",
        "Suppose a customer service center receives an average of 5 phone calls per hour. The number of calls arriving in any given hour follows a Poisson distribution because:\n",
        "\n",
        "Events are independent: One phone call doesn’t affect whether another call will arrive.\n",
        "Constant average rate: The average number of calls (5 per hour) is constant over time.\n",
        "Only one event happens at a time: A single phone call happens at a time, and we don’t get \"half a call.\"\n",
        "\n",
        "Traffic Accidents: The number of accidents at an intersection in a day can be modeled as a Poisson process if accidents occur randomly but at a constant average rate.\n",
        "\n",
        "Emails Arriving in an Inbox: If emails arrive at an average rate of 10 per hour, the Poisson distribution can model the probability of receiving a certain number of emails in a given hour.\n",
        "\n",
        "Hospital Emergency Room Arrivals: The number of patients arriving at an emergency room in a night can be modeled as a Poisson process if patient arrivals are random but follow a predictable average rate."
      ],
      "metadata": {
        "id": "TTF2lXHbOlBN"
      }
    },
    {
      "cell_type": "code",
      "source": [
        "import math\n",
        "from scipy.stats import poisson\n",
        "\n",
        "lambda_rate = 5\n",
        "k = 8\n",
        "\n",
        "poisson_probability = (math.exp(-lambda_rate) * lambda_rate**k) / math.factorial(k)\n",
        "\n",
        "poisson_probability_scipy = poisson.pmf(k, lambda_rate)\n",
        "\n",
        "print(f\"Probability of receiving exactly {k} calls in an hour: {poisson_probability:.4f}\")\n",
        "print(f\"Probability using scipy: {poisson_probability_scipy:.4f}\")\n"
      ],
      "metadata": {
        "colab": {
          "base_uri": "https://localhost:8080/"
        },
        "id": "Z3Sv0qL3X26r",
        "outputId": "4cbf7ae2-693d-4233-8d95-be3765dad866"
      },
      "execution_count": 7,
      "outputs": [
        {
          "output_type": "stream",
          "name": "stdout",
          "text": [
            "Probability of receiving exactly 8 calls in an hour: 0.0653\n",
            "Probability using scipy: 0.0653\n"
          ]
        }
      ]
    },
    {
      "cell_type": "markdown",
      "source": [
        "11. Explain what a random variable is and differentiate between discrete and continuous random variables."
      ],
      "metadata": {
        "id": "ogKtdBlGYDdm"
      }
    },
    {
      "cell_type": "markdown",
      "source": [
        "Answer - A random variable is a variable that takes on different numerical values based on the outcome of a random process or experiment. It assigns a numerical value to each possible outcome of a random event, making it a key concept in probability theory and statistics. Random variables are used to quantify uncertain events, such as rolling a die, flipping a coin, or measuring the time it takes to complete a task.\n",
        "\n",
        "There are two main types of random variables:\n",
        "\n",
        "1 - Discrete Random Variables\n",
        "2 - Continuous Random Variables\n",
        "\n",
        "1 - . Discrete Random Variable\n",
        "A discrete random variable is one that can take on a finite or countable number of distinct values. In other words, the values a discrete random variable can assume are usually whole numbers, and you can list all possible values.\n",
        "Ex - Rolling a die: The result of rolling a die is a discrete random variable that can take one of six values: {1, 2, 3, 4, 5, 6}.\n",
        "\n",
        "2. Continuous Random Variable\n",
        "A continuous random variable is one that can take on an infinite number of possible values within a given range. These values are not countable, and the variable can take any value in a continuous interval.\n",
        "\n",
        "Examples of Continuous Random Variables:\n",
        "Height of individuals: The height of a person is a continuous random variable since it can take any value within a range (e.g., between 150 cm and 200 cm) and is not limited to discrete values.\n",
        "\n",
        "A random variable assigns numerical values to the outcomes of a random experiment.\n",
        "\n",
        "Discrete random variables take on a countable number of distinct values (e.g., the number of heads in coin flips).\n",
        "\n",
        "Continuous random variables take on an infinite number of values within a range (e.g., temperature or time)."
      ],
      "metadata": {
        "id": "-lzh5b88YH2i"
      }
    },
    {
      "cell_type": "markdown",
      "source": [
        "12. Provide an example dataset, calculate both covariance and correlation, and interpret the results.\n"
      ],
      "metadata": {
        "id": "lzFCjqZauFJS"
      }
    },
    {
      "cell_type": "code",
      "source": [
        "import numpy as np\n",
        "import pandas as pd\n",
        "\n",
        "# Example dataset\n",
        "data = {\n",
        "    'Study Hours': [2, 3, 4, 5, 6, 7, 8, 9, 10, 11],\n",
        "    'Exam Score': [50, 55, 60, 65, 70, 75, 80, 85, 90, 95]\n",
        "}\n",
        "\n",
        "df = pd.DataFrame(data)\n",
        "\n",
        "covariance = df['Study Hours'].cov(df['Exam Score'])\n",
        "\n",
        "# Calculate correlation\n",
        "correlation = df['Study Hours'].corr(df['Exam Score'])\n",
        "\n",
        "# Output the results\n",
        "covariance, correlation\n"
      ],
      "metadata": {
        "colab": {
          "base_uri": "https://localhost:8080/"
        },
        "id": "K99sVsdSuV12",
        "outputId": "e9f4e379-10e3-434e-cd5c-980825db882d"
      },
      "execution_count": 10,
      "outputs": [
        {
          "output_type": "execute_result",
          "data": {
            "text/plain": [
              "(45.83333333333333, 1.0)"
            ]
          },
          "metadata": {},
          "execution_count": 10
        }
      ]
    },
    {
      "cell_type": "code",
      "source": [],
      "metadata": {
        "id": "eTHvDDqGuWhU"
      },
      "execution_count": null,
      "outputs": []
    }
  ]
}